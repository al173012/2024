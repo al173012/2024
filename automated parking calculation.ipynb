{
  "nbformat": 4,
  "nbformat_minor": 0,
  "metadata": {
    "colab": {
      "provenance": []
    },
    "kernelspec": {
      "name": "python3",
      "display_name": "Python 3"
    },
    "language_info": {
      "name": "python"
    }
  },
  "cells": [
    {
      "cell_type": "code",
      "source": [
        "import cv2\n",
        "import numpy as np\n",
        "import tensorflow as tf\n",
        "import os\n",
        "from tensorflow.keras.preprocessing.image import ImageDataGenerator"
      ],
      "metadata": {
        "id": "58QgplYY7hE8"
      },
      "execution_count": null,
      "outputs": []
    },
    {
      "cell_type": "code",
      "source": [
        "from google.colab import drive\n",
        "drive.mount('/content/drive')"
      ],
      "metadata": {
        "id": "WckNP1LkWTCt",
        "colab": {
          "base_uri": "https://localhost:8080/"
        },
        "outputId": "276e5f2c-3e8a-4be7-b113-1ad0619cb30d"
      },
      "execution_count": null,
      "outputs": [
        {
          "output_type": "stream",
          "name": "stdout",
          "text": [
            "Mounted at /content/drive\n"
          ]
        }
      ]
    },
    {
      "cell_type": "code",
      "source": [
        "# Mengatur jumlah lahan parkir\n",
        "total_parking_spots = 134\n",
        "max_parking_spots = 134  # Menentukan batas maksimum lahan parkir"
      ],
      "metadata": {
        "id": "6toqmBUe-eNQ"
      },
      "execution_count": null,
      "outputs": []
    },
    {
      "cell_type": "code",
      "source": [
        "def load_and_preprocess_image(image_path):\n",
        "    img = cv2.imread(image_path)\n",
        "    img = cv2.resize(img, (224, 224))  # Mengubah ukuran gambar\n",
        "    img = img / 255.0  # Normalisasi\n",
        "    return img"
      ],
      "metadata": {
        "id": "60Vo2Kkt-gbF"
      },
      "execution_count": null,
      "outputs": []
    },
    {
      "cell_type": "code",
      "source": [
        "def create_model():\n",
        "    model = tf.keras.Sequential([\n",
        "        tf.keras.layers.Conv2D(32, (3, 3), activation='relu', input_shape=(224, 224, 3)),\n",
        "        tf.keras.layers.MaxPooling2D((2, 2)),\n",
        "        tf.keras.layers.Conv2D(64, (3, 3), activation='relu'),\n",
        "        tf.keras.layers.MaxPooling2D((2, 2)),\n",
        "        tf.keras.layers.Flatten(),\n",
        "        tf.keras.layers.Dense(128, activation='relu'),\n",
        "        tf.keras.layers.Dense(1, activation='sigmoid')  # 1 neuron untuk binary classification\n",
        "    ])\n",
        "    model.compile(optimizer='adam', loss='binary_crossentropy', metrics=['accuracy'])\n",
        "    return model"
      ],
      "metadata": {
        "id": "O1klu20D-iSk"
      },
      "execution_count": null,
      "outputs": []
    },
    {
      "cell_type": "code",
      "source": [
        "dataset_path = '/content/drive/MyDrive/cars/train' #ganti path"
      ],
      "metadata": {
        "id": "z-CuST7FCMZR"
      },
      "execution_count": null,
      "outputs": []
    },
    {
      "cell_type": "code",
      "source": [
        "if not os.path.exists(dataset_path):\n",
        "    print(f\"Dataset tidak ditemukan di {dataset_path}\")\n",
        "else:\n",
        "    print(f\"Dataset ditemukan di {dataset_path}\")"
      ],
      "metadata": {
        "colab": {
          "base_uri": "https://localhost:8080/"
        },
        "id": "XJsjiLJNCrEW",
        "outputId": "c68bd425-293b-4221-b4fd-124c491066db"
      },
      "execution_count": null,
      "outputs": [
        {
          "output_type": "stream",
          "name": "stdout",
          "text": [
            "Dataset ditemukan di /content/drive/MyDrive/cars/train\n"
          ]
        }
      ]
    },
    {
      "cell_type": "code",
      "source": [
        "dataset_path = os.path.abspath('/content/drive/MyDrive/cars/train')  # Ganti path\n",
        "print(\"Jalur dataset absolut:\", dataset_path)"
      ],
      "metadata": {
        "colab": {
          "base_uri": "https://localhost:8080/"
        },
        "id": "pIRVB2CgDi2U",
        "outputId": "948ce7f7-0b75-484e-8612-a96e25613251"
      },
      "execution_count": null,
      "outputs": [
        {
          "output_type": "stream",
          "name": "stdout",
          "text": [
            "Jalur dataset absolut: /content/drive/MyDrive/cars/train\n"
          ]
        }
      ]
    },
    {
      "cell_type": "code",
      "source": [
        "print(\"Isi folder train:\", os.listdir(dataset_path))\n",
        "if 'mobil' in os.listdir(dataset_path):\n",
        "    print(\"Isi folder mobil:\", os.listdir(os.path.join(dataset_path, 'mobil')))\n",
        "if 'bukan_mobil' in os.listdir(dataset_path):\n",
        "    print(\"Isi folder bukan mobil:\", os.listdir(os.path.join(dataset_path, 'bukan_mobil')))"
      ],
      "metadata": {
        "colab": {
          "base_uri": "https://localhost:8080/"
        },
        "id": "v3hIUSP7EUqE",
        "outputId": "d7b58167-4108-400e-9d44-e8bc413300c3"
      },
      "execution_count": null,
      "outputs": [
        {
          "output_type": "stream",
          "name": "stdout",
          "text": [
            "Isi folder train: ['mobil', 'bukan mobil']\n",
            "Isi folder mobil: ['images7.jpg', 'images9.jpg', 'images2.jpg', 'images6.jpg', 'images10.jpg', 'images1.jpg', 'images4.jpg', 'images3.jpg', 'images8.jpg', 'images5.jpg']\n"
          ]
        }
      ]
    },
    {
      "cell_type": "code",
      "source": [
        "train_datagen = ImageDataGenerator(rescale=1.0/255.0)\n",
        "train_generator = train_datagen.flow_from_directory('/content/drive/MyDrive/cars/train',  # Ganti path\n",
        "    target_size=(224, 224),\n",
        "    batch_size=34,\n",
        "    class_mode='binary'\n",
        ")\n"
      ],
      "metadata": {
        "colab": {
          "base_uri": "https://localhost:8080/"
        },
        "id": "UXa8ruwnFk7V",
        "outputId": "4be9c254-b5ed-461d-dbd2-31a8f551e707"
      },
      "execution_count": null,
      "outputs": [
        {
          "output_type": "stream",
          "name": "stdout",
          "text": [
            "Found 20 images belonging to 2 classes.\n"
          ]
        }
      ]
    },
    {
      "cell_type": "code",
      "source": [
        "model = create_model()\n",
        "model.fit(train_generator, epochs=10)"
      ],
      "metadata": {
        "colab": {
          "base_uri": "https://localhost:8080/"
        },
        "id": "tLqMn8A8FwXl",
        "outputId": "935ddcc1-1b91-4fb6-a465-0d689faf4267"
      },
      "execution_count": null,
      "outputs": [
        {
          "output_type": "stream",
          "name": "stderr",
          "text": [
            "/usr/local/lib/python3.10/dist-packages/keras/src/layers/convolutional/base_conv.py:107: UserWarning: Do not pass an `input_shape`/`input_dim` argument to a layer. When using Sequential models, prefer using an `Input(shape)` object as the first layer in the model instead.\n",
            "  super().__init__(activity_regularizer=activity_regularizer, **kwargs)\n"
          ]
        },
        {
          "output_type": "stream",
          "name": "stdout",
          "text": [
            "Epoch 1/10\n"
          ]
        },
        {
          "output_type": "stream",
          "name": "stderr",
          "text": [
            "/usr/local/lib/python3.10/dist-packages/keras/src/trainers/data_adapters/py_dataset_adapter.py:121: UserWarning: Your `PyDataset` class should call `super().__init__(**kwargs)` in its constructor. `**kwargs` can include `workers`, `use_multiprocessing`, `max_queue_size`. Do not pass these arguments to `fit()`, as they will be ignored.\n",
            "  self._warn_if_super_not_called()\n"
          ]
        },
        {
          "output_type": "stream",
          "name": "stdout",
          "text": [
            "\u001b[1m1/1\u001b[0m \u001b[32m━━━━━━━━━━━━━━━━━━━━\u001b[0m\u001b[37m\u001b[0m \u001b[1m8s\u001b[0m 8s/step - accuracy: 0.5000 - loss: 0.6846\n",
            "Epoch 2/10\n",
            "\u001b[1m1/1\u001b[0m \u001b[32m━━━━━━━━━━━━━━━━━━━━\u001b[0m\u001b[37m\u001b[0m \u001b[1m7s\u001b[0m 7s/step - accuracy: 0.6500 - loss: 0.8138\n",
            "Epoch 3/10\n",
            "\u001b[1m1/1\u001b[0m \u001b[32m━━━━━━━━━━━━━━━━━━━━\u001b[0m\u001b[37m\u001b[0m \u001b[1m5s\u001b[0m 5s/step - accuracy: 0.5000 - loss: 22.0569\n",
            "Epoch 4/10\n",
            "\u001b[1m1/1\u001b[0m \u001b[32m━━━━━━━━━━━━━━━━━━━━\u001b[0m\u001b[37m\u001b[0m \u001b[1m7s\u001b[0m 7s/step - accuracy: 0.5000 - loss: 9.9145\n",
            "Epoch 5/10\n",
            "\u001b[1m1/1\u001b[0m \u001b[32m━━━━━━━━━━━━━━━━━━━━\u001b[0m\u001b[37m\u001b[0m \u001b[1m6s\u001b[0m 6s/step - accuracy: 1.0000 - loss: 0.1839\n",
            "Epoch 6/10\n",
            "\u001b[1m1/1\u001b[0m \u001b[32m━━━━━━━━━━━━━━━━━━━━\u001b[0m\u001b[37m\u001b[0m \u001b[1m5s\u001b[0m 5s/step - accuracy: 0.8000 - loss: 0.4660\n",
            "Epoch 7/10\n",
            "\u001b[1m1/1\u001b[0m \u001b[32m━━━━━━━━━━━━━━━━━━━━\u001b[0m\u001b[37m\u001b[0m \u001b[1m10s\u001b[0m 10s/step - accuracy: 1.0000 - loss: 0.0045\n",
            "Epoch 8/10\n",
            "\u001b[1m1/1\u001b[0m \u001b[32m━━━━━━━━━━━━━━━━━━━━\u001b[0m\u001b[37m\u001b[0m \u001b[1m7s\u001b[0m 7s/step - accuracy: 1.0000 - loss: 0.0085\n",
            "Epoch 9/10\n",
            "\u001b[1m1/1\u001b[0m \u001b[32m━━━━━━━━━━━━━━━━━━━━\u001b[0m\u001b[37m\u001b[0m \u001b[1m6s\u001b[0m 6s/step - accuracy: 0.5000 - loss: 0.9499\n",
            "Epoch 10/10\n",
            "\u001b[1m1/1\u001b[0m \u001b[32m━━━━━━━━━━━━━━━━━━━━\u001b[0m\u001b[37m\u001b[0m \u001b[1m5s\u001b[0m 5s/step - accuracy: 1.0000 - loss: 6.3079e-04\n"
          ]
        },
        {
          "output_type": "execute_result",
          "data": {
            "text/plain": [
              "<keras.src.callbacks.history.History at 0x78aff51561a0>"
            ]
          },
          "metadata": {},
          "execution_count": 12
        }
      ]
    },
    {
      "cell_type": "code",
      "source": [
        "def classify_parking(image_path):\n",
        "    global total_parking_spots\n",
        "    image = load_and_preprocess_image(image_path)\n",
        "    image = np.expand_dims(image, axis=0)\n",
        "\n",
        "    prediction = model.predict(image)\n",
        "     # Jika prediksi lebih besar dari 0.5, maka itu mobil\n",
        "    if prediction[0][0] > 0.5:\n",
        "        total_parking_spots -= 1\n",
        "        print(\"Ini adalah mobil MASUK. Jumlah lahan parkir tersisa:\", total_parking_spots)\n",
        "    else:\n",
        "        print(\"Ini bukan mobil. Jumlah lahan parkir tersisa:\", total_parking_spots)\n",
        "\n",
        "# Contoh penggunaan\n",
        "classify_parking('/content/drive/MyDrive/parkir mobil 4.jpg')  # Ganti dengan path ke gambar yang ingin diuji"
      ],
      "metadata": {
        "colab": {
          "base_uri": "https://localhost:8080/"
        },
        "id": "mAdmPkJ1F99v",
        "outputId": "932f16a1-d05b-42f5-e4aa-6ffbf6fb6f3e"
      },
      "execution_count": null,
      "outputs": [
        {
          "output_type": "stream",
          "name": "stdout",
          "text": [
            "\u001b[1m1/1\u001b[0m \u001b[32m━━━━━━━━━━━━━━━━━━━━\u001b[0m\u001b[37m\u001b[0m \u001b[1m0s\u001b[0m 136ms/step\n",
            "Ini bukan mobil. Jumlah lahan parkir tersisa: 134\n"
          ]
        }
      ]
    },
    {
      "cell_type": "code",
      "source": [
        "def car_exited():\n",
        "    global total_parking_spots\n",
        "    if total_parking_spots < max_parking_spots:\n",
        "        total_parking_spots += 1\n",
        "        print(\"Mobil sudah keluar. Jumlah lahan parkir sekarang:\", total_parking_spots)\n",
        "    else:\n",
        "        print(\"Jumlah lahan parkir sudah maksimum, tidak bisa menambah.\")\n",
        "\n",
        "classify_parking('/content/drive/MyDrive/parkir mobil 4.jpg')  # Ganti dengan path ke gambar yang ingin diuji\n",
        "# Setelah mobil keluar, panggil fungsi car_exited\n",
        "car_exited()"
      ],
      "metadata": {
        "id": "C01NIhcCGZTJ",
        "colab": {
          "base_uri": "https://localhost:8080/"
        },
        "outputId": "90ecaa21-9636-44c1-c40b-67759a7bd07d"
      },
      "execution_count": null,
      "outputs": [
        {
          "output_type": "stream",
          "name": "stdout",
          "text": [
            "\u001b[1m1/1\u001b[0m \u001b[32m━━━━━━━━━━━━━━━━━━━━\u001b[0m\u001b[37m\u001b[0m \u001b[1m0s\u001b[0m 77ms/step\n",
            "Ini bukan mobil. Jumlah lahan parkir tersisa: 134\n",
            "Jumlah lahan parkir sudah maksimum, tidak bisa menambah.\n"
          ]
        }
      ]
    },
    {
      "cell_type": "code",
      "source": [],
      "metadata": {
        "id": "6iLLoIWQPSE0"
      },
      "execution_count": null,
      "outputs": []
    },
    {
      "cell_type": "code",
      "source": [
        "def classify_parking(image_path):\n",
        "    global total_parking_spots\n",
        "    image = load_and_preprocess_image(image_path)\n",
        "    image = np.expand_dims(image, axis=0)\n",
        "\n",
        "    prediction = model.predict(image)\n",
        "     # Jika prediksi lebih besar dari 0.5, maka itu mobil\n",
        "    if prediction[0][0] > 0.5:\n",
        "        total_parking_spots -= 1\n",
        "        print(\"Ini adalah mobil MASUK. Jumlah lahan parkir tersisa:\", total_parking_spots)\n",
        "    else:\n",
        "        print(\"Ini bukan mobil. Jumlah lahan parkir tersisa:\", total_parking_spots)\n",
        "# Contoh penggunaan\n",
        "classify_parking('/content/drive/MyDrive/parkir mobil 3.jpg')  # Ganti dengan path ke gambar yang ingin diuji"
      ],
      "metadata": {
        "colab": {
          "base_uri": "https://localhost:8080/"
        },
        "outputId": "0afe7ac1-f575-47ee-a579-26c8dff7316a",
        "id": "LN77se6s1I1q"
      },
      "execution_count": null,
      "outputs": [
        {
          "output_type": "stream",
          "name": "stdout",
          "text": [
            "\u001b[1m1/1\u001b[0m \u001b[32m━━━━━━━━━━━━━━━━━━━━\u001b[0m\u001b[37m\u001b[0m \u001b[1m0s\u001b[0m 98ms/step\n",
            "Ini adalah mobil MASUK. Jumlah lahan parkir tersisa: 133\n"
          ]
        }
      ]
    },
    {
      "cell_type": "code",
      "source": [],
      "metadata": {
        "id": "fs98X2Vd1Qj3"
      },
      "execution_count": null,
      "outputs": []
    },
    {
      "cell_type": "code",
      "source": [
        "def car_exited():\n",
        "    global total_parking_spots\n",
        "    if total_parking_spots < max_parking_spots:\n",
        "        total_parking_spots += 1\n",
        "        print(\"Mobil sudah keluar. Jumlah lahan parkir sekarang:\", total_parking_spots)\n",
        "    else:\n",
        "        print(\"Jumlah lahan parkir sudah maksimum, tidak bisa menambah.\")\n",
        "\n",
        "classify_parking('/content/drive/MyDrive/parkir mobil 2.jpg')  # Ganti dengan path ke gambar yang ingin diuji\n",
        "# Setelah mobil keluar, panggil fungsi car_exited\n",
        "car_exited()"
      ],
      "metadata": {
        "colab": {
          "base_uri": "https://localhost:8080/"
        },
        "outputId": "e4d4bda2-b835-4297-b035-b1cdba9da7ea",
        "id": "XBP8Xdil1Xde"
      },
      "execution_count": null,
      "outputs": [
        {
          "output_type": "stream",
          "name": "stdout",
          "text": [
            "\u001b[1m1/1\u001b[0m \u001b[32m━━━━━━━━━━━━━━━━━━━━\u001b[0m\u001b[37m\u001b[0m \u001b[1m0s\u001b[0m 113ms/step\n",
            "Ini bukan mobil. Jumlah lahan parkir tersisa: 133\n",
            "Mobil sudah keluar. Jumlah lahan parkir sekarang: 134\n"
          ]
        }
      ]
    },
    {
      "cell_type": "code",
      "source": [],
      "metadata": {
        "id": "lM04_NT51e6e"
      },
      "execution_count": null,
      "outputs": []
    }
  ]
}